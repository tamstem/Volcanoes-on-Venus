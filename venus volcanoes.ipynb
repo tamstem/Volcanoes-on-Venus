{
 "cells": [
  {
   "cell_type": "code",
   "execution_count": 1,
   "metadata": {
    "_uuid": "ea30f0efd5ad62db52e45b9d4e8c03a107d4629c"
   },
   "outputs": [],
   "source": [
    "# Venus volcanoes recognizer inspired by LeNet5 and using Keras"
   ]
  },
  {
   "cell_type": "code",
   "execution_count": 2,
   "metadata": {
    "_uuid": "beef3be17ea5faeaefc5772cab397a88d3af6da8",
    "scrolled": true
   },
   "outputs": [
    {
     "name": "stderr",
     "output_type": "stream",
     "text": [
      "Using TensorFlow backend.\n"
     ]
    }
   ],
   "source": [
    "import numpy as np\n",
    "import pandas as pd\n",
    "import tensorflow as tf \n",
    "\n",
    "import os\n",
    "os.environ['KMP_DUPLICATE_LIB_OK']='True'\n",
    "\n",
    "from sklearn.linear_model import LogisticRegression\n",
    "\n",
    "\n",
    "import keras \n",
    "from keras import backend as K\n",
    "from keras.utils.np_utils import to_categorical\n",
    "from keras.models import Sequential\n",
    "from keras.layers import Conv2D\n",
    "from keras.layers import MaxPooling2D\n",
    "from keras.layers import Flatten\n",
    "from keras.layers import Dense\n",
    "from keras.layers import Activation, Dropout\n",
    "from keras.optimizers import Adam\n",
    "\n",
    "from keras.layers.normalization import BatchNormalization\n",
    "from keras.preprocessing.image import ImageDataGenerator\n",
    "from keras.callbacks import ReduceLROnPlateau\n",
    "\n",
    "import matplotlib.pyplot as plt\n",
    "\n",
    "from sklearn.model_selection import train_test_split\n",
    "\n",
    "from sklearn.metrics import accuracy_score\n",
    "\n",
    "\n",
    "\n",
    "from sklearn.ensemble import GradientBoostingRegressor\n",
    "\n",
    "from sklearn.model_selection import train_test_split\n",
    "from sklearn.metrics import accuracy_score, confusion_matrix, recall_score, precision_score, f1_score\n",
    "from sklearn.metrics import mean_squared_error\n",
    "\n",
    "\n",
    "import seaborn as sns"
   ]
  },
  {
   "cell_type": "code",
   "execution_count": 3,
   "metadata": {
    "_uuid": "97e9b9c7ed1f16b93592b2932ba1b8d405941844"
   },
   "outputs": [],
   "source": [
    "X_train = pd.read_csv('train_images.csv', header=None, index_col=None)\n",
    "X_test = pd.read_csv('test_images.csv', header=None, index_col=None)\n",
    "\n",
    "Y_train = pd.read_csv('train_labels.csv')\n",
    "Y_test = pd.read_csv('test_labels.csv')\n"
   ]
  },
  {
   "cell_type": "code",
   "execution_count": 4,
   "metadata": {
    "_uuid": "8c67ba4defbea315fec77f5270ff7cac84cbba1f"
   },
   "outputs": [
    {
     "data": {
      "text/html": [
       "<div>\n",
       "<style scoped>\n",
       "    .dataframe tbody tr th:only-of-type {\n",
       "        vertical-align: middle;\n",
       "    }\n",
       "\n",
       "    .dataframe tbody tr th {\n",
       "        vertical-align: top;\n",
       "    }\n",
       "\n",
       "    .dataframe thead th {\n",
       "        text-align: right;\n",
       "    }\n",
       "</style>\n",
       "<table border=\"1\" class=\"dataframe\">\n",
       "  <thead>\n",
       "    <tr style=\"text-align: right;\">\n",
       "      <th></th>\n",
       "      <th>0</th>\n",
       "      <th>1</th>\n",
       "      <th>2</th>\n",
       "      <th>3</th>\n",
       "      <th>4</th>\n",
       "      <th>5</th>\n",
       "      <th>6</th>\n",
       "      <th>7</th>\n",
       "      <th>8</th>\n",
       "      <th>9</th>\n",
       "      <th>...</th>\n",
       "      <th>12090</th>\n",
       "      <th>12091</th>\n",
       "      <th>12092</th>\n",
       "      <th>12093</th>\n",
       "      <th>12094</th>\n",
       "      <th>12095</th>\n",
       "      <th>12096</th>\n",
       "      <th>12097</th>\n",
       "      <th>12098</th>\n",
       "      <th>12099</th>\n",
       "    </tr>\n",
       "  </thead>\n",
       "  <tbody>\n",
       "    <tr>\n",
       "      <th>0</th>\n",
       "      <td>95</td>\n",
       "      <td>101</td>\n",
       "      <td>99</td>\n",
       "      <td>103</td>\n",
       "      <td>95</td>\n",
       "      <td>86</td>\n",
       "      <td>96</td>\n",
       "      <td>89</td>\n",
       "      <td>70</td>\n",
       "      <td>104</td>\n",
       "      <td>...</td>\n",
       "      <td>111</td>\n",
       "      <td>107</td>\n",
       "      <td>92</td>\n",
       "      <td>89</td>\n",
       "      <td>103</td>\n",
       "      <td>99</td>\n",
       "      <td>117</td>\n",
       "      <td>116</td>\n",
       "      <td>118</td>\n",
       "      <td>96</td>\n",
       "    </tr>\n",
       "    <tr>\n",
       "      <th>1</th>\n",
       "      <td>91</td>\n",
       "      <td>92</td>\n",
       "      <td>91</td>\n",
       "      <td>89</td>\n",
       "      <td>92</td>\n",
       "      <td>93</td>\n",
       "      <td>96</td>\n",
       "      <td>101</td>\n",
       "      <td>107</td>\n",
       "      <td>104</td>\n",
       "      <td>...</td>\n",
       "      <td>103</td>\n",
       "      <td>92</td>\n",
       "      <td>93</td>\n",
       "      <td>95</td>\n",
       "      <td>98</td>\n",
       "      <td>105</td>\n",
       "      <td>104</td>\n",
       "      <td>100</td>\n",
       "      <td>90</td>\n",
       "      <td>81</td>\n",
       "    </tr>\n",
       "    <tr>\n",
       "      <th>2</th>\n",
       "      <td>87</td>\n",
       "      <td>70</td>\n",
       "      <td>72</td>\n",
       "      <td>74</td>\n",
       "      <td>84</td>\n",
       "      <td>78</td>\n",
       "      <td>93</td>\n",
       "      <td>104</td>\n",
       "      <td>106</td>\n",
       "      <td>106</td>\n",
       "      <td>...</td>\n",
       "      <td>84</td>\n",
       "      <td>71</td>\n",
       "      <td>95</td>\n",
       "      <td>102</td>\n",
       "      <td>94</td>\n",
       "      <td>80</td>\n",
       "      <td>91</td>\n",
       "      <td>80</td>\n",
       "      <td>84</td>\n",
       "      <td>90</td>\n",
       "    </tr>\n",
       "    <tr>\n",
       "      <th>3</th>\n",
       "      <td>0</td>\n",
       "      <td>0</td>\n",
       "      <td>0</td>\n",
       "      <td>0</td>\n",
       "      <td>0</td>\n",
       "      <td>0</td>\n",
       "      <td>0</td>\n",
       "      <td>0</td>\n",
       "      <td>0</td>\n",
       "      <td>0</td>\n",
       "      <td>...</td>\n",
       "      <td>94</td>\n",
       "      <td>81</td>\n",
       "      <td>89</td>\n",
       "      <td>84</td>\n",
       "      <td>80</td>\n",
       "      <td>90</td>\n",
       "      <td>92</td>\n",
       "      <td>80</td>\n",
       "      <td>88</td>\n",
       "      <td>96</td>\n",
       "    </tr>\n",
       "    <tr>\n",
       "      <th>4</th>\n",
       "      <td>114</td>\n",
       "      <td>118</td>\n",
       "      <td>124</td>\n",
       "      <td>119</td>\n",
       "      <td>95</td>\n",
       "      <td>118</td>\n",
       "      <td>105</td>\n",
       "      <td>116</td>\n",
       "      <td>123</td>\n",
       "      <td>112</td>\n",
       "      <td>...</td>\n",
       "      <td>116</td>\n",
       "      <td>113</td>\n",
       "      <td>102</td>\n",
       "      <td>93</td>\n",
       "      <td>109</td>\n",
       "      <td>104</td>\n",
       "      <td>106</td>\n",
       "      <td>117</td>\n",
       "      <td>111</td>\n",
       "      <td>115</td>\n",
       "    </tr>\n",
       "  </tbody>\n",
       "</table>\n",
       "<p>5 rows × 12100 columns</p>\n",
       "</div>"
      ],
      "text/plain": [
       "   0      1      2      3      4      5      6      7      8      9      \\\n",
       "0     95    101     99    103     95     86     96     89     70    104   \n",
       "1     91     92     91     89     92     93     96    101    107    104   \n",
       "2     87     70     72     74     84     78     93    104    106    106   \n",
       "3      0      0      0      0      0      0      0      0      0      0   \n",
       "4    114    118    124    119     95    118    105    116    123    112   \n",
       "\n",
       "   ...    12090  12091  12092  12093  12094  12095  12096  12097  12098  12099  \n",
       "0  ...      111    107     92     89    103     99    117    116    118     96  \n",
       "1  ...      103     92     93     95     98    105    104    100     90     81  \n",
       "2  ...       84     71     95    102     94     80     91     80     84     90  \n",
       "3  ...       94     81     89     84     80     90     92     80     88     96  \n",
       "4  ...      116    113    102     93    109    104    106    117    111    115  \n",
       "\n",
       "[5 rows x 12100 columns]"
      ]
     },
     "execution_count": 4,
     "metadata": {},
     "output_type": "execute_result"
    }
   ],
   "source": [
    "X_train.head()"
   ]
  },
  {
   "cell_type": "code",
   "execution_count": 5,
   "metadata": {
    "_uuid": "0e35e477228d13799b14787519bf952baff876f5",
    "scrolled": true
   },
   "outputs": [
    {
     "data": {
      "text/html": [
       "<div>\n",
       "<style scoped>\n",
       "    .dataframe tbody tr th:only-of-type {\n",
       "        vertical-align: middle;\n",
       "    }\n",
       "\n",
       "    .dataframe tbody tr th {\n",
       "        vertical-align: top;\n",
       "    }\n",
       "\n",
       "    .dataframe thead th {\n",
       "        text-align: right;\n",
       "    }\n",
       "</style>\n",
       "<table border=\"1\" class=\"dataframe\">\n",
       "  <thead>\n",
       "    <tr style=\"text-align: right;\">\n",
       "      <th></th>\n",
       "      <th>Volcano?</th>\n",
       "      <th>Type</th>\n",
       "      <th>Radius</th>\n",
       "      <th>Number Volcanoes</th>\n",
       "    </tr>\n",
       "  </thead>\n",
       "  <tbody>\n",
       "    <tr>\n",
       "      <th>0</th>\n",
       "      <td>1</td>\n",
       "      <td>3.0</td>\n",
       "      <td>17.46</td>\n",
       "      <td>1.0</td>\n",
       "    </tr>\n",
       "    <tr>\n",
       "      <th>1</th>\n",
       "      <td>0</td>\n",
       "      <td>NaN</td>\n",
       "      <td>NaN</td>\n",
       "      <td>NaN</td>\n",
       "    </tr>\n",
       "    <tr>\n",
       "      <th>2</th>\n",
       "      <td>0</td>\n",
       "      <td>NaN</td>\n",
       "      <td>NaN</td>\n",
       "      <td>NaN</td>\n",
       "    </tr>\n",
       "    <tr>\n",
       "      <th>3</th>\n",
       "      <td>0</td>\n",
       "      <td>NaN</td>\n",
       "      <td>NaN</td>\n",
       "      <td>NaN</td>\n",
       "    </tr>\n",
       "    <tr>\n",
       "      <th>4</th>\n",
       "      <td>0</td>\n",
       "      <td>NaN</td>\n",
       "      <td>NaN</td>\n",
       "      <td>NaN</td>\n",
       "    </tr>\n",
       "  </tbody>\n",
       "</table>\n",
       "</div>"
      ],
      "text/plain": [
       "   Volcano?  Type  Radius  Number Volcanoes\n",
       "0         1   3.0   17.46               1.0\n",
       "1         0   NaN     NaN               NaN\n",
       "2         0   NaN     NaN               NaN\n",
       "3         0   NaN     NaN               NaN\n",
       "4         0   NaN     NaN               NaN"
      ]
     },
     "execution_count": 5,
     "metadata": {},
     "output_type": "execute_result"
    }
   ],
   "source": [
    "Y_train.head()"
   ]
  },
  {
   "cell_type": "code",
   "execution_count": 6,
   "metadata": {
    "_uuid": "acc5f057220f6f00d96286dedacea8a4060a7600"
   },
   "outputs": [
    {
     "name": "stdout",
     "output_type": "stream",
     "text": [
      "(7000, 12100)\n",
      "(2734, 12100)\n",
      "(7000, 4)\n",
      "(2734, 4)\n"
     ]
    }
   ],
   "source": [
    "print (X_train.shape)\n",
    "print (X_test.shape)\n",
    "print (Y_train.shape)\n",
    "print (Y_test.shape)"
   ]
  },
  {
   "cell_type": "code",
   "execution_count": 7,
   "metadata": {
    "_uuid": "0bbe8db60331d5cf663676a131ec0ebd4a269776"
   },
   "outputs": [],
   "source": [
    "#a lot of nan values for type, radius and number volcanoes for images with no volcano\n",
    "Y_train.fillna(value=0,inplace=True)\n",
    "Y_test.fillna(value=0,inplace=True)"
   ]
  },
  {
   "cell_type": "code",
   "execution_count": 8,
   "metadata": {
    "_uuid": "4d49bb0e84ae1c81e0f325bf3d4bdb3c3800e956"
   },
   "outputs": [
    {
     "name": "stdout",
     "output_type": "stream",
     "text": [
      "0\n",
      "0\n",
      "Volcano?            0\n",
      "Type                0\n",
      "Radius              0\n",
      "Number Volcanoes    0\n",
      "dtype: int64\n",
      "Volcano?            0\n",
      "Type                0\n",
      "Radius              0\n",
      "Number Volcanoes    0\n",
      "dtype: int64\n"
     ]
    }
   ],
   "source": [
    "print(sum(X_train.isna().sum()))\n",
    "print(sum(X_test.isna().sum()))\n",
    "\n",
    "print(Y_train.isna().sum())\n",
    "print(Y_test.isna().sum())"
   ]
  },
  {
   "cell_type": "code",
   "execution_count": 9,
   "metadata": {
    "_uuid": "cf9c18f480c5f600c083d3f73f005e57ba1010fb"
   },
   "outputs": [
    {
     "data": {
      "image/png": "[encoded data removed]",
      "text/plain": [
       "<matplotlib.figure.Figure at 0x1021882d0>"
      ]
     },
     "metadata": {
      "needs_background": "light"
     },
     "output_type": "display_data"
    }
   ],
   "source": [
    "plt.hist(Y_train[\"Volcano?\"])\n",
    "plt.show()"
   ]
  },
  {
   "cell_type": "code",
   "execution_count": 10,
   "metadata": {
    "_uuid": "7fb612c0f5f7397882693fc4736851bd691ab417"
   },
   "outputs": [
    {
     "data": {
      "image/png": "[encoded data removed]",
      "text/plain": [
       "<matplotlib.figure.Figure at 0x10269aed0>"
      ]
     },
     "metadata": {
      "needs_background": "light"
     },
     "output_type": "display_data"
    }
   ],
   "source": [
    "plt.hist(Y_train[\"Type\"])\n",
    "plt.show()"
   ]
  },
  {
   "cell_type": "code",
   "execution_count": 11,
   "metadata": {
    "_uuid": "cd6a9e2e8f3e29cced68f0e54832a36b977c7e0c"
   },
   "outputs": [
    {
     "data": {
      "image/png": "[encoded data removed]",
      "text/plain": [
       "<matplotlib.figure.Figure at 0x1a3fec5810>"
      ]
     },
     "metadata": {
      "needs_background": "light"
     },
     "output_type": "display_data"
    }
   ],
   "source": [
    "plt.hist(Y_train[\"Radius\"])\n",
    "plt.show()"
   ]
  },
  {
   "cell_type": "code",
   "execution_count": 12,
   "metadata": {
    "_uuid": "b3f1fa615eac3b4ca65e1e33670a5559940709b0"
   },
   "outputs": [
    {
     "data": {
      "image/png": "[encoded data removed]",
      "text/plain": [
       "<matplotlib.figure.Figure at 0x1021a3d50>"
      ]
     },
     "metadata": {
      "needs_background": "light"
     },
     "output_type": "display_data"
    }
   ],
   "source": [
    "plt.hist(Y_train[\"Number Volcanoes\"])\n",
    "plt.show()"
   ]
  },
  {
   "cell_type": "code",
   "execution_count": 13,
   "metadata": {
    "_uuid": "eb960f77f063d929b87ea22dad32c4e5298a0c9d"
   },
   "outputs": [],
   "source": [
    "X_train=np.array(X_train)\n",
    "X_test=np.array(X_test)"
   ]
  },
  {
   "cell_type": "code",
   "execution_count": 14,
   "metadata": {
    "_uuid": "2efab676cd894ff2ed300fc1a43a1e7a5576a731"
   },
   "outputs": [
    {
     "data": {
      "text/plain": [
       "(12100,)"
      ]
     },
     "execution_count": 14,
     "metadata": {},
     "output_type": "execute_result"
    }
   ],
   "source": [
    "#Rescale data\n",
    "X_train = X_train.astype('float32')\n",
    "X_test = X_test.astype('float32')\n",
    "X_train = X_train/255.\n",
    "X_test = X_test/255.\n",
    "X_train[0].shape"
   ]
  },
  {
   "cell_type": "code",
   "execution_count": 15,
   "metadata": {
    "_uuid": "861dd5f83aa714659311a4bbf7a8812ebd0b08ed"
   },
   "outputs": [],
   "source": [
    "#Reshape datasets for CNN\n",
    "X_train_CNN = X_train.reshape(X_train.shape[0], 110, 110, 1)\n",
    "X_test_CNN = X_test.reshape(X_test.shape[0], 110, 110, 1)"
   ]
  },
  {
   "cell_type": "code",
   "execution_count": 16,
   "metadata": {
    "_uuid": "e0e106aa68328dc14ff18953b37f1cf615332ebb"
   },
   "outputs": [],
   "source": [
    "Y_train_volcano = Y_train['Volcano?']\n",
    "Y_test_volcano = Y_test['Volcano?']"
   ]
  },
  {
   "cell_type": "code",
   "execution_count": 17,
   "metadata": {
    "_uuid": "d7b4bc6f8f6679ed04e8d3a6efe97ecef80e047e"
   },
   "outputs": [
    {
     "name": "stdout",
     "output_type": "stream",
     "text": [
      "(7000,)\n",
      "(2734,)\n"
     ]
    }
   ],
   "source": [
    "print (Y_train_volcano.shape)\n",
    "print (Y_test_volcano.shape)"
   ]
  },
  {
   "cell_type": "code",
   "execution_count": 18,
   "metadata": {
    "_uuid": "c1ffdb283719c7f01bd1c032bcd3137bc3d142f1"
   },
   "outputs": [],
   "source": [
    "model = Sequential()\n",
    "\n",
    "#Conv layer 1 \n",
    "#input 32x32x1, output 28x28x6\n",
    "model.add(Conv2D(32,(5,5), padding = 'Same', activation = 'relu', input_shape = (110,110,1)))\n",
    "model.add(BatchNormalization())\n",
    "\n",
    "#Pooling layer 1\n",
    "model.add(MaxPooling2D(pool_size = (2,2)))\n",
    "model.add(Dropout(0.25))\n",
    "\n",
    "#Conv layer 2\n",
    "model.add(Conv2D(32, (3,3), padding = 'Same', activation = 'relu'))\n",
    "model.add(BatchNormalization())\n",
    "\n",
    "#Pooling layer 2\n",
    "model.add(MaxPooling2D(pool_size = (2,2)))\n",
    "model.add(Dropout(0.25))\n",
    "\n",
    "#Flatten\n",
    "model.add(Flatten())\n",
    "\n",
    "#Fully connected layer 1\n",
    "model.add(Dense(128, activation = 'relu'))\n",
    "\n",
    "#Output Layer\n",
    "model.add(Dense(units = 1,kernel_initializer=\"uniform\", activation = 'sigmoid'))\n",
    "\n",
    "model.compile(optimizer = 'adam', loss = 'binary_crossentropy', metrics = ['accuracy'])"
   ]
  },
  {
   "cell_type": "code",
   "execution_count": null,
   "metadata": {
    "_uuid": "3194621f10e6643ad4de7448ee750ab1dccd9602"
   },
   "outputs": [],
   "source": [
    "\n"
   ]
  },
  {
   "cell_type": "code",
   "execution_count": 19,
   "metadata": {
    "_uuid": "514eb56675efa34c350d5dc783327b4a012e28bd"
   },
   "outputs": [],
   "source": [
    "# Split the train dataset to training and  validation \n",
    "\n",
    "X_train_CNN, X_val_CNN, Y_train_volcano, Y_val_volcano = train_test_split(X_train_CNN, Y_train_volcano, test_size = 0.1, random_state=2)"
   ]
  },
  {
   "cell_type": "code",
   "execution_count": 20,
   "metadata": {
    "_uuid": "cc21d99cfbd978fe44af2ad6a19f46c9a9ab0e36"
   },
   "outputs": [
    {
     "name": "stdout",
     "output_type": "stream",
     "text": [
      "Train on 6300 samples, validate on 700 samples\n",
      "Epoch 1/15\n",
      "6300/6300 [==============================] - 246s 39ms/step - loss: 0.6137 - acc: 0.8356 - val_loss: 1.0886 - val_acc: 0.8400\n",
      "Epoch 2/15\n",
      "6300/6300 [==============================] - 237s 38ms/step - loss: 0.2222 - acc: 0.9168 - val_loss: 0.1704 - val_acc: 0.9329\n",
      "Epoch 3/15\n",
      "6300/6300 [==============================] - 239s 38ms/step - loss: 0.1382 - acc: 0.9519 - val_loss: 0.4886 - val_acc: 0.8743\n",
      "Epoch 4/15\n",
      "6300/6300 [==============================] - 242s 38ms/step - loss: 0.0935 - acc: 0.9714 - val_loss: 0.1768 - val_acc: 0.9314\n",
      "Epoch 5/15\n",
      "6300/6300 [==============================] - 250s 40ms/step - loss: 0.0718 - acc: 0.9763 - val_loss: 0.1508 - val_acc: 0.9343\n",
      "Epoch 6/15\n",
      "6300/6300 [==============================] - 247s 39ms/step - loss: 0.0464 - acc: 0.9857 - val_loss: 0.1047 - val_acc: 0.9514\n",
      "Epoch 7/15\n",
      "6300/6300 [==============================] - 248s 39ms/step - loss: 0.0331 - acc: 0.9884 - val_loss: 0.5259 - val_acc: 0.8914\n",
      "Epoch 8/15\n",
      "6300/6300 [==============================] - 230s 36ms/step - loss: 0.0197 - acc: 0.9940 - val_loss: 0.1920 - val_acc: 0.9429\n",
      "Epoch 9/15\n",
      "6300/6300 [==============================] - 232s 37ms/step - loss: 0.0152 - acc: 0.9956 - val_loss: 0.9433 - val_acc: 0.8786\n",
      "Epoch 10/15\n",
      "6300/6300 [==============================] - 251s 40ms/step - loss: 0.0105 - acc: 0.9976 - val_loss: 0.1613 - val_acc: 0.9514\n",
      "Epoch 11/15\n",
      "6300/6300 [==============================] - 249s 40ms/step - loss: 0.0073 - acc: 0.9978 - val_loss: 0.1837 - val_acc: 0.9429\n",
      "Epoch 12/15\n",
      "6300/6300 [==============================] - 252s 40ms/step - loss: 0.0138 - acc: 0.9946 - val_loss: 1.7335 - val_acc: 0.8371\n",
      "Epoch 13/15\n",
      "6300/6300 [==============================] - 247s 39ms/step - loss: 0.0313 - acc: 0.9906 - val_loss: 1.1872 - val_acc: 0.8614\n",
      "Epoch 14/15\n",
      "6300/6300 [==============================] - 248s 39ms/step - loss: 0.0237 - acc: 0.9927 - val_loss: 0.2091 - val_acc: 0.9471\n",
      "Epoch 15/15\n",
      "6300/6300 [==============================] - 251s 40ms/step - loss: 0.0090 - acc: 0.9971 - val_loss: 0.2207 - val_acc: 0.9586\n"
     ]
    },
    {
     "data": {
      "text/plain": [
       "<keras.callbacks.History at 0x1022b6510>"
      ]
     },
     "execution_count": 20,
     "metadata": {},
     "output_type": "execute_result"
    }
   ],
   "source": [
    "#run model\n",
    "model.fit(X_train_CNN, Y_train_volcano, batch_size=100, epochs = 15, validation_data=(X_val_CNN, Y_val_volcano))\n"
   ]
  },
  {
   "cell_type": "code",
   "execution_count": 21,
   "metadata": {
    "_uuid": "8f934065f78c60f82d03f89b0c40bbf7a447ea3b"
   },
   "outputs": [],
   "source": [
    "Y_pred_volcano = model.predict_classes(X_test_CNN)"
   ]
  },
  {
   "cell_type": "code",
   "execution_count": 22,
   "metadata": {
    "_uuid": "e7739fb4db745d8b24d68634adb926ebe4ca7b28"
   },
   "outputs": [],
   "source": [
    "Y_pred_volcano = pd.DataFrame({'Volcano?': Y_pred_volcano.flatten()})\n",
    "Y_test_volcano = pd.DataFrame({'Volcano?': Y_test_volcano})"
   ]
  },
  {
   "cell_type": "code",
   "execution_count": 23,
   "metadata": {
    "_uuid": "89293ff604c647082690e15b904bde5af7c567cb"
   },
   "outputs": [
    {
     "name": "stdout",
     "output_type": "stream",
     "text": [
      "test accuracy: 0.951353328456474 \n",
      "precision: 0.936231884057971 \n",
      "recall: 0.7442396313364056 \n",
      "f1 score: 0.8292682926829268 \n"
     ]
    },
    {
     "data": {
      "text/plain": [
       "<matplotlib.axes._subplots.AxesSubplot at 0x1a32b18310>"
      ]
     },
     "execution_count": 23,
     "metadata": {},
     "output_type": "execute_result"
    },
    {
     "data": {
      "image/png": "[encoded data removed]",
      "text/plain": [
       "<matplotlib.figure.Figure at 0x1024a8990>"
      ]
     },
     "metadata": {
      "needs_background": "light"
     },
     "output_type": "display_data"
    }
   ],
   "source": [
    "print (\"test accuracy: %s \" %accuracy_score(Y_test_volcano, Y_pred_volcano))\n",
    "print (\"precision: %s \" %precision_score(Y_test_volcano, Y_pred_volcano))\n",
    "print (\"recall: %s \" %recall_score(Y_test_volcano, Y_pred_volcano))\n",
    "print (\"f1 score: %s \" %f1_score(Y_test_volcano, Y_pred_volcano))\n",
    "\n",
    "\n",
    "cm = confusion_matrix(Y_test_volcano, Y_pred_volcano)\n",
    "sns.heatmap(cm,annot=True)"
   ]
  },
  {
   "cell_type": "code",
   "execution_count": 24,
   "metadata": {
    "_uuid": "c6965449a5ff93be0d31a4f0772b2687a3fb7948"
   },
   "outputs": [
    {
     "name": "stderr",
     "output_type": "stream",
     "text": [
      "/anaconda3/lib/python2.7/site-packages/scipy/optimize/linesearch.py:313: LineSearchWarning: The line search algorithm did not converge\n",
      "  warn('The line search algorithm did not converge', LineSearchWarning)\n",
      "/anaconda3/lib/python2.7/site-packages/sklearn/utils/optimize.py:195: UserWarning: Line Search failed\n",
      "  warnings.warn('Line Search failed')\n"
     ]
    }
   ],
   "source": [
    "#classification according to type \n",
    "#Take the old data before processing X_train for  CNN\n",
    "\n",
    "\n",
    "\n",
    "X_train_new = X_train[Y_train['Volcano?']==1]\n",
    "Y_train_clf_type = Y_train[Y_train['Volcano?']==1].drop(['Volcano?','Radius', 'Number Volcanoes'], axis=1)\n",
    "Y_train_clf_type=np.array(Y_train_clf_type)\n",
    "\n",
    "X_test_new = X_test[Y_pred_volcano['Volcano?']==1]\n",
    "Y_test_clf_type = Y_test[Y_pred_volcano['Volcano?']==1].drop(['Volcano?','Radius','Number Volcanoes'], axis=1)\n",
    "Y_test_clf_type=np.array(Y_test_clf_type)\n",
    "\n",
    "# LogisticRegression \n",
    "logreg = LogisticRegression(C=5000, solver='newton-cg', multi_class='multinomial',max_iter=1000)\n",
    "logreg.fit(X_train_new, Y_train_clf_type.ravel())\n",
    "Y_pred_clf_type = logreg.predict(X_test_new)\n",
    "\n"
   ]
  },
  {
   "cell_type": "code",
   "execution_count": 25,
   "metadata": {
    "_uuid": "f264ef77cf8c3142dc7128adae520e1def075bf9",
    "scrolled": true
   },
   "outputs": [
    {
     "name": "stdout",
     "output_type": "stream",
     "text": [
      "score: 1.0 \n",
      "accuracy score: 0.4811594202898551 \n"
     ]
    }
   ],
   "source": [
    "print (\"score: %s \" %logreg.score(X_train_new, Y_train_clf_type))\n",
    "print (\"accuracy score: %s \" %accuracy_score(Y_test_clf_type, Y_pred_clf_type))"
   ]
  },
  {
   "cell_type": "code",
   "execution_count": 26,
   "metadata": {
    "_uuid": "8e7b02d2d657ddd2f18e3078cd17c27c8a5d27f9"
   },
   "outputs": [],
   "source": [
    "Y_pred_clf_type = pd.DataFrame({'Type': Y_pred_clf_type})"
   ]
  },
  {
   "cell_type": "code",
   "execution_count": 27,
   "metadata": {
    "_uuid": "48d8aa3a304cf61fb5ed57b5aafe3e97bcf25937"
   },
   "outputs": [
    {
     "data": {
      "text/html": [
       "<div>\n",
       "<style scoped>\n",
       "    .dataframe tbody tr th:only-of-type {\n",
       "        vertical-align: middle;\n",
       "    }\n",
       "\n",
       "    .dataframe tbody tr th {\n",
       "        vertical-align: top;\n",
       "    }\n",
       "\n",
       "    .dataframe thead th {\n",
       "        text-align: right;\n",
       "    }\n",
       "</style>\n",
       "<table border=\"1\" class=\"dataframe\">\n",
       "  <thead>\n",
       "    <tr style=\"text-align: right;\">\n",
       "      <th></th>\n",
       "      <th>Type</th>\n",
       "    </tr>\n",
       "  </thead>\n",
       "  <tbody>\n",
       "    <tr>\n",
       "      <th>0</th>\n",
       "      <td>0.0</td>\n",
       "    </tr>\n",
       "    <tr>\n",
       "      <th>1</th>\n",
       "      <td>0.0</td>\n",
       "    </tr>\n",
       "    <tr>\n",
       "      <th>2</th>\n",
       "      <td>3.0</td>\n",
       "    </tr>\n",
       "    <tr>\n",
       "      <th>3</th>\n",
       "      <td>0.0</td>\n",
       "    </tr>\n",
       "    <tr>\n",
       "      <th>4</th>\n",
       "      <td>2.0</td>\n",
       "    </tr>\n",
       "  </tbody>\n",
       "</table>\n",
       "</div>"
      ],
      "text/plain": [
       "   Type\n",
       "0   0.0\n",
       "1   0.0\n",
       "2   3.0\n",
       "3   0.0\n",
       "4   2.0"
      ]
     },
     "execution_count": 27,
     "metadata": {},
     "output_type": "execute_result"
    }
   ],
   "source": [
    "Y_pred_type=[]\n",
    "j=0\n",
    "for i in range(Y_pred_volcano.shape[0]):\n",
    "    if Y_pred_volcano['Volcano?'].iloc[i]==1.0:\n",
    "        Y_pred_type.append(Y_pred_clf_type['Type'].iloc[j])\n",
    "        j=j+1\n",
    "    else:\n",
    "        Y_pred_type.append(0.0)\n",
    "\n",
    "\n",
    "\n",
    "Y_pred_type = pd.DataFrame({'Type': Y_pred_type})\n",
    "Y_pred_type.head()"
   ]
  },
  {
   "cell_type": "code",
   "execution_count": 28,
   "metadata": {
    "_uuid": "c64ed3514d8ac3dd5c8f8713a1ea5a8232436d73"
   },
   "outputs": [
    {
     "data": {
      "text/plain": [
       "0.8939283101682517"
      ]
     },
     "execution_count": 28,
     "metadata": {},
     "output_type": "execute_result"
    }
   ],
   "source": [
    "accuracy_score(Y_test['Type'], Y_pred_type)"
   ]
  },
  {
   "cell_type": "code",
   "execution_count": 29,
   "metadata": {
    "_uuid": "93f59159e17f735224fa4f8bf10ea6aa867d03e4"
   },
   "outputs": [
    {
     "name": "stdout",
     "output_type": "stream",
     "text": [
      "score: 1.0 \n",
      "accuracy score: 0.7565217391304347 \n"
     ]
    },
    {
     "name": "stderr",
     "output_type": "stream",
     "text": [
      "/anaconda3/lib/python2.7/site-packages/sklearn/utils/optimize.py:195: UserWarning: Line Search failed\n",
      "  warnings.warn('Line Search failed')\n"
     ]
    }
   ],
   "source": [
    "#classification according to number of volcanoes\n",
    "#Take the old data before processing X_train for  CNN\n",
    "\n",
    "\n",
    "Y_train_clf_num = Y_train[Y_train['Volcano?']==1].drop(['Volcano?','Radius','Type'], axis=1)\n",
    "Y_train_clf_num=np.array(Y_train_clf_num)\n",
    "\n",
    "\n",
    "Y_test_clf_num = Y_test[Y_pred_volcano['Volcano?']==1].drop(['Volcano?','Radius','Type'], axis=1)\n",
    "Y_test_clf_num=np.array(Y_test_clf_num)\n",
    "\n",
    "logreg = LogisticRegression(C=5000, solver='newton-cg', multi_class='multinomial',max_iter=10000)\n",
    "logreg.fit(X_train_new, Y_train_clf_num.ravel())\n",
    "Y_pred_clf_num = logreg.predict(X_test_new)\n",
    "\n",
    "\n",
    "\n",
    "print (\"score: %s \" %logreg.score(X_train_new, Y_train_clf_num))\n",
    "print (\"accuracy score: %s \" %accuracy_score(Y_test_clf_num, Y_pred_clf_num))"
   ]
  },
  {
   "cell_type": "code",
   "execution_count": 30,
   "metadata": {
    "_uuid": "2f09c36e22155af6349e4bf00d46909df981619b"
   },
   "outputs": [],
   "source": [
    "Y_pred_clf_num = pd.DataFrame({'Number Volcanoes': Y_pred_clf_num})"
   ]
  },
  {
   "cell_type": "code",
   "execution_count": 31,
   "metadata": {
    "_uuid": "07095a8c31156f55b76e3e1b5d75149a5f669e51"
   },
   "outputs": [
    {
     "data": {
      "text/plain": [
       "0.9286759326993417"
      ]
     },
     "execution_count": 31,
     "metadata": {},
     "output_type": "execute_result"
    }
   ],
   "source": [
    "Y_pred_num=[]\n",
    "j=0\n",
    "for i in range(Y_pred_volcano.shape[0]):\n",
    "    if Y_pred_volcano['Volcano?'].iloc[i]==1.0:\n",
    "        Y_pred_num.append(Y_pred_clf_num['Number Volcanoes'].iloc[j])\n",
    "        j=j+1\n",
    "    else:\n",
    "        Y_pred_num.append(0.0)\n",
    "\n",
    "\n",
    "\n",
    "Y_pred_num = pd.DataFrame({'Number Volcanoes': Y_pred_num})\n",
    "Y_pred_num.head()\n",
    "\n",
    "\n",
    "accuracy_score(Y_test['Number Volcanoes'], Y_pred_num)"
   ]
  },
  {
   "cell_type": "code",
   "execution_count": 32,
   "metadata": {
    "_uuid": "e935a486a08e6eb6604a41ca73bda8c22ea8b9e2",
    "scrolled": true
   },
   "outputs": [
    {
     "name": "stdout",
     "output_type": "stream",
     "text": [
      "0.9998761009377521\n",
      "123.6796229920971\n"
     ]
    }
   ],
   "source": [
    "#regression for radius \n",
    "\n",
    "Y_train_reg = Y_train[Y_train['Volcano?']==1].drop(['Volcano?','Type','Number Volcanoes'], axis=1)\n",
    "Y_test_reg = Y_test[Y_pred_volcano['Volcano?']==1].drop(['Volcano?','Type','Number Volcanoes'], axis=1)\n",
    "Y_train_reg=np.array(Y_train_reg)\n",
    "Y_test_reg=np.array(Y_test_reg)\n",
    "\n",
    "reg = GradientBoostingRegressor(random_state=20, n_estimators=500)\n",
    "reg = reg.fit(X_train_new, Y_train_reg.ravel())\n",
    "\n",
    "\n",
    "print (reg.score(X_train_new, Y_train_reg))\n",
    "\n",
    "Y_pred_reg = reg.predict(X_test_new)\n",
    "print (mean_squared_error(Y_test_reg, Y_pred_reg))\n",
    "\n",
    "Y_pred_reg = pd.DataFrame({'Radius': Y_pred_reg})\n"
   ]
  },
  {
   "cell_type": "code",
   "execution_count": 33,
   "metadata": {
    "_uuid": "aafbd8b102209c001346bd874252aa5a43eeb667"
   },
   "outputs": [
    {
     "data": {
      "text/html": [
       "<div>\n",
       "<style scoped>\n",
       "    .dataframe tbody tr th:only-of-type {\n",
       "        vertical-align: middle;\n",
       "    }\n",
       "\n",
       "    .dataframe tbody tr th {\n",
       "        vertical-align: top;\n",
       "    }\n",
       "\n",
       "    .dataframe thead th {\n",
       "        text-align: right;\n",
       "    }\n",
       "</style>\n",
       "<table border=\"1\" class=\"dataframe\">\n",
       "  <thead>\n",
       "    <tr style=\"text-align: right;\">\n",
       "      <th></th>\n",
       "      <th>Radius</th>\n",
       "    </tr>\n",
       "  </thead>\n",
       "  <tbody>\n",
       "    <tr>\n",
       "      <th>0</th>\n",
       "      <td>0.000000</td>\n",
       "    </tr>\n",
       "    <tr>\n",
       "      <th>1</th>\n",
       "      <td>0.000000</td>\n",
       "    </tr>\n",
       "    <tr>\n",
       "      <th>2</th>\n",
       "      <td>20.407059</td>\n",
       "    </tr>\n",
       "    <tr>\n",
       "      <th>3</th>\n",
       "      <td>0.000000</td>\n",
       "    </tr>\n",
       "    <tr>\n",
       "      <th>4</th>\n",
       "      <td>17.911743</td>\n",
       "    </tr>\n",
       "  </tbody>\n",
       "</table>\n",
       "</div>"
      ],
      "text/plain": [
       "      Radius\n",
       "0   0.000000\n",
       "1   0.000000\n",
       "2  20.407059\n",
       "3   0.000000\n",
       "4  17.911743"
      ]
     },
     "execution_count": 33,
     "metadata": {},
     "output_type": "execute_result"
    }
   ],
   "source": [
    "Y_pred_rad=[]\n",
    "j=0\n",
    "for i in range(Y_pred_volcano.shape[0]):\n",
    "    if Y_pred_volcano['Volcano?'].iloc[i]==1.0:\n",
    "        Y_pred_rad.append(Y_pred_reg['Radius'].iloc[j])\n",
    "        j=j+1\n",
    "    else:\n",
    "        Y_pred_rad.append(0.0)\n",
    "\n",
    "Y_pred_rad = pd.DataFrame({'Radius': Y_pred_rad})\n",
    "Y_pred_rad.head()"
   ]
  },
  {
   "cell_type": "code",
   "execution_count": 34,
   "metadata": {
    "_uuid": "d12ff432ea645a01614c0e61592e384ebb1c05a4"
   },
   "outputs": [],
   "source": [
    "Y_pred_volcano=Y_pred_volcano.join(Y_pred_type)\n",
    "Y_pred_volcano=Y_pred_volcano.join(Y_pred_rad)\n",
    "Y_pred_volcano=Y_pred_volcano.join(Y_pred_num)"
   ]
  },
  {
   "cell_type": "code",
   "execution_count": 40,
   "metadata": {
    "_uuid": "6ae523f2490e81cb7274a3492bc53db2283e37eb"
   },
   "outputs": [
    {
     "data": {
      "text/html": [
       "<div>\n",
       "<style scoped>\n",
       "    .dataframe tbody tr th:only-of-type {\n",
       "        vertical-align: middle;\n",
       "    }\n",
       "\n",
       "    .dataframe tbody tr th {\n",
       "        vertical-align: top;\n",
       "    }\n",
       "\n",
       "    .dataframe thead th {\n",
       "        text-align: right;\n",
       "    }\n",
       "</style>\n",
       "<table border=\"1\" class=\"dataframe\">\n",
       "  <thead>\n",
       "    <tr style=\"text-align: right;\">\n",
       "      <th></th>\n",
       "      <th>Volcano?</th>\n",
       "      <th>Type</th>\n",
       "      <th>Radius</th>\n",
       "      <th>Number Volcanoes</th>\n",
       "    </tr>\n",
       "  </thead>\n",
       "  <tbody>\n",
       "    <tr>\n",
       "      <th>0</th>\n",
       "      <td>0</td>\n",
       "      <td>0.0</td>\n",
       "      <td>0.000000</td>\n",
       "      <td>0.0</td>\n",
       "    </tr>\n",
       "    <tr>\n",
       "      <th>1</th>\n",
       "      <td>0</td>\n",
       "      <td>0.0</td>\n",
       "      <td>0.000000</td>\n",
       "      <td>0.0</td>\n",
       "    </tr>\n",
       "    <tr>\n",
       "      <th>2</th>\n",
       "      <td>1</td>\n",
       "      <td>3.0</td>\n",
       "      <td>20.407059</td>\n",
       "      <td>1.0</td>\n",
       "    </tr>\n",
       "    <tr>\n",
       "      <th>3</th>\n",
       "      <td>0</td>\n",
       "      <td>0.0</td>\n",
       "      <td>0.000000</td>\n",
       "      <td>0.0</td>\n",
       "    </tr>\n",
       "    <tr>\n",
       "      <th>4</th>\n",
       "      <td>1</td>\n",
       "      <td>2.0</td>\n",
       "      <td>17.911743</td>\n",
       "      <td>1.0</td>\n",
       "    </tr>\n",
       "  </tbody>\n",
       "</table>\n",
       "</div>"
      ],
      "text/plain": [
       "   Volcano?  Type     Radius  Number Volcanoes\n",
       "0         0   0.0   0.000000               0.0\n",
       "1         0   0.0   0.000000               0.0\n",
       "2         1   3.0  20.407059               1.0\n",
       "3         0   0.0   0.000000               0.0\n",
       "4         1   2.0  17.911743               1.0"
      ]
     },
     "execution_count": 40,
     "metadata": {},
     "output_type": "execute_result"
    }
   ],
   "source": [
    "Y_pred_volcano.head()"
   ]
  },
  {
   "cell_type": "code",
   "execution_count": 39,
   "metadata": {
    "_uuid": "4a2043a93dfa1bfcaa0c31531ddf5630a0648de2"
   },
   "outputs": [
    {
     "data": {
      "text/html": [
       "<div>\n",
       "<style scoped>\n",
       "    .dataframe tbody tr th:only-of-type {\n",
       "        vertical-align: middle;\n",
       "    }\n",
       "\n",
       "    .dataframe tbody tr th {\n",
       "        vertical-align: top;\n",
       "    }\n",
       "\n",
       "    .dataframe thead th {\n",
       "        text-align: right;\n",
       "    }\n",
       "</style>\n",
       "<table border=\"1\" class=\"dataframe\">\n",
       "  <thead>\n",
       "    <tr style=\"text-align: right;\">\n",
       "      <th></th>\n",
       "      <th>Volcano?</th>\n",
       "      <th>Type</th>\n",
       "      <th>Radius</th>\n",
       "      <th>Number Volcanoes</th>\n",
       "    </tr>\n",
       "  </thead>\n",
       "  <tbody>\n",
       "    <tr>\n",
       "      <th>0</th>\n",
       "      <td>0</td>\n",
       "      <td>0.0</td>\n",
       "      <td>0.00</td>\n",
       "      <td>0.0</td>\n",
       "    </tr>\n",
       "    <tr>\n",
       "      <th>1</th>\n",
       "      <td>0</td>\n",
       "      <td>0.0</td>\n",
       "      <td>0.00</td>\n",
       "      <td>0.0</td>\n",
       "    </tr>\n",
       "    <tr>\n",
       "      <th>2</th>\n",
       "      <td>1</td>\n",
       "      <td>1.0</td>\n",
       "      <td>17.00</td>\n",
       "      <td>1.0</td>\n",
       "    </tr>\n",
       "    <tr>\n",
       "      <th>3</th>\n",
       "      <td>0</td>\n",
       "      <td>0.0</td>\n",
       "      <td>0.00</td>\n",
       "      <td>0.0</td>\n",
       "    </tr>\n",
       "    <tr>\n",
       "      <th>4</th>\n",
       "      <td>1</td>\n",
       "      <td>3.0</td>\n",
       "      <td>15.13</td>\n",
       "      <td>1.0</td>\n",
       "    </tr>\n",
       "  </tbody>\n",
       "</table>\n",
       "</div>"
      ],
      "text/plain": [
       "   Volcano?  Type  Radius  Number Volcanoes\n",
       "0         0   0.0    0.00               0.0\n",
       "1         0   0.0    0.00               0.0\n",
       "2         1   1.0   17.00               1.0\n",
       "3         0   0.0    0.00               0.0\n",
       "4         1   3.0   15.13               1.0"
      ]
     },
     "execution_count": 39,
     "metadata": {},
     "output_type": "execute_result"
    }
   ],
   "source": [
    "Y_test.head()"
   ]
  },
  {
   "cell_type": "code",
   "execution_count": null,
   "metadata": {
    "_uuid": "771d7976d36da93d55bbad4a0649b8e75d0a3ef0"
   },
   "outputs": [],
   "source": []
  }
 ],
 "metadata": {
  "kernelspec": {
   "display_name": "Python 2",
   "language": "python",
   "name": "python2"
  },
  "language_info": {
   "codemirror_mode": {
    "name": "ipython",
    "version": 2
   },
   "file_extension": ".py",
   "mimetype": "text/x-python",
   "name": "python",
   "nbconvert_exporter": "python",
   "pygments_lexer": "ipython2",
   "version": "2.7.15"
  }
 },
 "nbformat": 4,
 "nbformat_minor": 1
}
